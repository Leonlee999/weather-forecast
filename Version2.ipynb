{
 "cells": [
  {
   "cell_type": "code",
   "execution_count": 5,
   "metadata": {},
   "outputs": [
    {
     "name": "stdout",
     "output_type": "stream",
     "text": [
      "Please Enter a Value of a Quadratic Equation : 156465746\n",
      "Please Enter b Value of a Quadratic Equation : 1574687346786\n",
      "Please Enter c Value of a Quadratic Equation : 676666656\n",
      "Two Distinct Real Roots Exists:root1 = -1574687341753.95 and root2 = -1574687351818.05\n"
     ]
    }
   ],
   "source": [
    "#It accepts large values for a,b,c\n",
    "from math import sqrt\n",
    "a = int(input(\"Please Enter a Value of a Quadratic Equation : \"))\n",
    "b = int(input(\"Please Enter b Value of a Quadratic Equation : \"))\n",
    "c = int(input(\"Please Enter c Value of a Quadratic Equation : \"))\n",
    "d= (b*b)-(4*a*c)\n",
    "if(d> 0):\n",
    "    x1=(-b + math.sqrt(d)/(2*a))\n",
    "    x2=(-b - math.sqrt(d)/(2*a))\n",
    "    print(\"Two Distinct Real Roots Exists:root1 = %.2f and root2 = %.2f\" %(x1,x2))\n",
    "elif(d==0):\n",
    "    x1=x2=-b/(2*a)\n",
    "    print(\"Two Equal and Real Roots Exists:root1 = %.2f and root2 = %.2f\" %(x1,x2))\n",
    "elif(d<0):\n",
    "    x1=x2=-b/(2*a)\n",
    "    imaginary = math.sqrt(-d)/(2*a)\n",
    "    print(\"Two Distinct Complex Roots Exists: root1 = %.2f+%.2f and root2 = %.2f-%.2f\" %(x1, imaginary,x2, imaginary))"
   ]
  },
  {
   "cell_type": "code",
   "execution_count": null,
   "metadata": {},
   "outputs": [],
   "source": []
  }
 ],
 "metadata": {
  "kernelspec": {
   "display_name": "Python 3",
   "language": "python",
   "name": "python3"
  },
  "language_info": {
   "codemirror_mode": {
    "name": "ipython",
    "version": 3
   },
   "file_extension": ".py",
   "mimetype": "text/x-python",
   "name": "python",
   "nbconvert_exporter": "python",
   "pygments_lexer": "ipython3",
   "version": "3.7.6"
  }
 },
 "nbformat": 4,
 "nbformat_minor": 4
}
