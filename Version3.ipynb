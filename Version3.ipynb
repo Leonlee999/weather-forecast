{
 "cells": [
  {
   "cell_type": "code",
   "execution_count": 2,
   "metadata": {},
   "outputs": [
    {
     "name": "stdout",
     "output_type": "stream",
     "text": [
      "Please Enter a Value of a Quadratic Equation : 0\n",
      "Please Enter b Value of a Quadratic Equation : 1\n",
      "Please Enter c Value of a Quadratic Equation : 2\n",
      "divide by zero error\n"
     ]
    }
   ],
   "source": [
    "#Divide by zero error\n",
    "from math import sqrt\n",
    "a = int(input(\"Please Enter a Value of a Quadratic Equation : \"))\n",
    "b = int(input(\"Please Enter b Value of a Quadratic Equation : \"))\n",
    "c = int(input(\"Please Enter c Value of a Quadratic Equation : \"))\n",
    "d=(b*b)-(4*a*c)\n",
    "if(a==0):\n",
    "    print(\"divide by zero error\")\n",
    "else:\n",
    "    if(d>0):\n",
    "        print(\"roots are real\")\n",
    "        x1=(((-b)+sqrt(d))/(2*a))\n",
    "        x2=(((-b)-sqrt(d))/(2*a))\n",
    "        print(\"the roots are: %f and %f\" %(x1,x2))\n",
    "    elif(d<0):\n",
    "        print(\"roots are imaginary\")\n",
    "        x1=x2=(-b/(2*a))\n",
    "        j=(sqrt(-d))/(2*a)\n",
    "        print(\"x1= %.2f + %.2f i and x2= %.2f - %.2f i\"%(x1,j,x2,j))\n",
    "    else:\n",
    "        print(\"roots are equal\")\n",
    "        x1=x2=(-b/(2*a))\n",
    "        print(\"x1= %.2f  and x2= %.2f \"%(x1,x2))"
   ]
  },
  {
   "cell_type": "code",
   "execution_count": null,
   "metadata": {},
   "outputs": [],
   "source": []
  }
 ],
 "metadata": {
  "kernelspec": {
   "display_name": "Python 3",
   "language": "python",
   "name": "python3"
  },
  "language_info": {
   "codemirror_mode": {
    "name": "ipython",
    "version": 3
   },
   "file_extension": ".py",
   "mimetype": "text/x-python",
   "name": "python",
   "nbconvert_exporter": "python",
   "pygments_lexer": "ipython3",
   "version": "3.7.6"
  }
 },
 "nbformat": 4,
 "nbformat_minor": 4
}
